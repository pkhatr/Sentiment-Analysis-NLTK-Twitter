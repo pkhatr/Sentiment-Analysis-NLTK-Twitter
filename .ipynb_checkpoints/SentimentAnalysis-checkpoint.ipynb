{
 "cells": [
  {
   "cell_type": "markdown",
   "id": "3a278eb4",
   "metadata": {},
   "source": [
    "## Import Required Libraries"
   ]
  },
  {
   "cell_type": "code",
   "execution_count": 1,
   "id": "80d6a404",
   "metadata": {},
   "outputs": [],
   "source": [
    "import nltk                                  # Python library for NLP\n",
    "from nltk.corpus import twitter_samples      # sample Twitter dataset from NLTK\n",
    "import matplotlib.pyplot as plt              # visualization library\n",
    "import pandas as pd\n",
    "import numpy as np \n",
    "from sklearn.feature_extraction.text import TfidfVectorizer\n",
    "import re\n",
    "import string\n",
    "import random"
   ]
  },
  {
   "cell_type": "markdown",
   "id": "971c162b",
   "metadata": {},
   "source": [
    "## Twitter Samples using nltk"
   ]
  },
  {
   "cell_type": "code",
   "execution_count": 2,
   "id": "a59ca76b",
   "metadata": {},
   "outputs": [],
   "source": [
    "all_positive_tweets = twitter_samples.strings('positive_tweets.json')\n",
    "all_negative_tweets = twitter_samples.strings('negative_tweets.json')"
   ]
  },
  {
   "cell_type": "code",
   "execution_count": 3,
   "id": "01eb1468",
   "metadata": {},
   "outputs": [
    {
     "name": "stdout",
     "output_type": "stream",
     "text": [
      "Total Positive Tweets 5000\n",
      "Total Negative Tweets 5000\n"
     ]
    }
   ],
   "source": [
    "print('Total Positive Tweets', len(all_positive_tweets))\n",
    "print('Total Negative Tweets', len(all_negative_tweets))"
   ]
  },
  {
   "cell_type": "markdown",
   "id": "c65227d1",
   "metadata": {},
   "source": [
    "## Shuffle list"
   ]
  },
  {
   "cell_type": "code",
   "execution_count": 4,
   "id": "25a928fb",
   "metadata": {},
   "outputs": [],
   "source": [
    "random.shuffle(all_positive_tweets)\n",
    "random.shuffle(all_negative_tweets)"
   ]
  },
  {
   "cell_type": "markdown",
   "id": "f09c9cd1",
   "metadata": {},
   "source": [
    "## Train Test Split"
   ]
  },
  {
   "cell_type": "code",
   "execution_count": 5,
   "id": "727c8eff",
   "metadata": {},
   "outputs": [],
   "source": [
    "X_train = all_positive_tweets[:4000] + all_negative_tweets[:4000]\n",
    "X_test = all_positive_tweets[4000:] + all_negative_tweets[4000:]\n",
    "y_train = np.append(np.ones(4000), np.zeros(4000))\n",
    "y_test = np.append(np.ones(1000), np.zeros(1000))"
   ]
  },
  {
   "cell_type": "markdown",
   "id": "2a7ccdd2",
   "metadata": {},
   "source": [
    "## Function to clean Text"
   ]
  },
  {
   "cell_type": "code",
   "execution_count": 6,
   "id": "e51b6f39",
   "metadata": {},
   "outputs": [],
   "source": [
    "def clean_text(text):\n",
    "    # Get Stopwords \n",
    "    stopwords = nltk.corpus.stopwords.words('english') \n",
    "    ps = nltk.PorterStemmer()\n",
    "    \n",
    "    # Removing any hyperlinks\n",
    "    text = re.sub('https?:\\S+', '', text)\n",
    "    \n",
    "    # Removing @mentions,\n",
    "    text = re.sub('@\\w+', '', text)\n",
    "    \n",
    "    # Replacing happy and sad face smileys with placeholders possmiley11 and negsmiley10 respectively\n",
    "    text = re.sub(':\\)|:-\\)|;\\)', 'possmiley11', text)\n",
    "    text = re.sub(':\\(|:-\\(|;-\\(', 'negsmiley10', text)\n",
    "    \n",
    "    # Removing any punctuations\n",
    "    text = ''.join([word.lower() for word in text if word not in string.punctuation])\n",
    "    \n",
    "    # Tokenize\n",
    "    tokens = re.split('\\W+', text)\n",
    "    \n",
    "    # Applying stemming\n",
    "    text = ' '.join([ps.stem(word) for word in tokens if word not in stopwords and word != ''])\n",
    "    \n",
    "    return text"
   ]
  },
  {
   "cell_type": "code",
   "execution_count": 7,
   "id": "dae93b06",
   "metadata": {},
   "outputs": [],
   "source": [
    "# Update X_train and X_test by cleaning the text\n",
    "X_train = [clean_text(text) for text in X_train]\n",
    "X_test = [clean_text(text) for text in X_test]"
   ]
  },
  {
   "cell_type": "markdown",
   "id": "0a44c0da",
   "metadata": {},
   "source": [
    "## Vectorizing"
   ]
  },
  {
   "cell_type": "code",
   "execution_count": 8,
   "id": "17e2ed23",
   "metadata": {},
   "outputs": [],
   "source": [
    "tfidf_vect = TfidfVectorizer()\n",
    "tfidf_vect.fit(X_train)\n",
    "X_train_tfidf = tfidf_vect.transform(X_train)\n",
    "X_test_tfidf = tfidf_vect.transform(X_test)"
   ]
  },
  {
   "cell_type": "markdown",
   "id": "d300fdbd",
   "metadata": {},
   "source": [
    "## Logistic Regression"
   ]
  },
  {
   "cell_type": "code",
   "execution_count": 9,
   "id": "7bf59581",
   "metadata": {},
   "outputs": [
    {
     "name": "stdout",
     "output_type": "stream",
     "text": [
      "Accuracy at each step at each step:  [0.98875  0.98625  0.988125 0.9875   0.986875]\n",
      "Average for accuracy:  0.9875\n",
      "Standard deviation for accuracy 0.0008838834764832127\n"
     ]
    }
   ],
   "source": [
    "from sklearn.linear_model import LogisticRegression \n",
    "from sklearn.model_selection import cross_val_score\n",
    "\n",
    "lr = LogisticRegression()\n",
    "\n",
    "scores = cross_val_score(lr, X_train_tfidf, y_train,  cv=5, scoring='accuracy')\n",
    "print('Accuracy at each step at each step: ', scores)\n",
    "print('Average for accuracy: ', np.mean(scores))\n",
    "print('Standard deviation for accuracy', np.std(scores))"
   ]
  },
  {
   "cell_type": "markdown",
   "id": "08d1be82",
   "metadata": {},
   "source": [
    "Based on accuracy, we should consider Logistic Regression as one of the possible model for sentiment analysis"
   ]
  },
  {
   "cell_type": "code",
   "execution_count": 10,
   "id": "d47dbfd6",
   "metadata": {},
   "outputs": [
    {
     "name": "stdout",
     "output_type": "stream",
     "text": [
      "Precision: 0.9979591836734694\n",
      "Recall: 0.978\n",
      "F1-Score: 0.9878787878787879\n"
     ]
    }
   ],
   "source": [
    "# Fit the training data\n",
    "lr.fit(X_train_tfidf, y_train)\n",
    "\n",
    "# Prediction on test data\n",
    "y_pred = lr.predict(X_test_tfidf)\n",
    "\n",
    "# Metrics evaluation\n",
    "from sklearn.metrics import precision_recall_fscore_support as score\n",
    "\n",
    "scores = score(y_test, y_pred, pos_label=0, average='binary')\n",
    "\n",
    "print('Precision:', scores[0])\n",
    "print('Recall:', scores[1])\n",
    "print('F1-Score:', scores[2])"
   ]
  },
  {
   "cell_type": "markdown",
   "id": "a0e24fea",
   "metadata": {},
   "source": [
    "## Naive Bayes"
   ]
  },
  {
   "cell_type": "code",
   "execution_count": 11,
   "id": "2fd6914c",
   "metadata": {},
   "outputs": [
    {
     "name": "stdout",
     "output_type": "stream",
     "text": [
      "Accuracy at each step at each step:  [0.984375 0.981875 0.984375 0.98125  0.9825  ]\n",
      "Average for accuracy:  0.9828749999999999\n",
      "Standard deviation for accuracy 0.0012869537676233756\n"
     ]
    }
   ],
   "source": [
    "from sklearn.naive_bayes import BernoulliNB\n",
    "nb =  BernoulliNB()\n",
    "\n",
    "scores = cross_val_score(nb, X_train_tfidf, y_train,  cv=5, scoring='accuracy')\n",
    "print('Accuracy at each step at each step: ', scores)\n",
    "print('Average for accuracy: ', np.mean(scores))\n",
    "print('Standard deviation for accuracy', np.std(scores))"
   ]
  },
  {
   "cell_type": "markdown",
   "id": "3b2cfa62",
   "metadata": {},
   "source": [
    "Based on accuracy, we should consider Bernoulli Naive Bayes as one of the possible model for sentiment analysis"
   ]
  },
  {
   "cell_type": "code",
   "execution_count": 12,
   "id": "dd8cae70",
   "metadata": {},
   "outputs": [
    {
     "name": "stdout",
     "output_type": "stream",
     "text": [
      "Precision: 0.9909456740442656\n",
      "Recall: 0.985\n",
      "F1-Score: 0.9879638916750251\n"
     ]
    }
   ],
   "source": [
    "# Fit the training data\n",
    "nb.fit(X_train_tfidf, y_train)\n",
    "\n",
    "# Prediction on test data\n",
    "y_pred = nb.predict(X_test_tfidf)\n",
    "\n",
    "# Metrics evaluation\n",
    "scores = score(y_test, y_pred, pos_label=0, average='binary')\n",
    "\n",
    "print('Precision:', scores[0])\n",
    "print('Recall:', scores[1])\n",
    "print('F1-Score:', scores[2])"
   ]
  },
  {
   "cell_type": "markdown",
   "id": "72929c23",
   "metadata": {},
   "source": [
    "## Random Forest Classifier"
   ]
  },
  {
   "cell_type": "code",
   "execution_count": 13,
   "id": "e8e88429",
   "metadata": {},
   "outputs": [
    {
     "name": "stdout",
     "output_type": "stream",
     "text": [
      "Fitting 5 folds for each of 10 candidates, totalling 50 fits\n"
     ]
    },
    {
     "data": {
      "text/plain": [
       "RandomizedSearchCV(cv=5, estimator=RandomForestClassifier(n_jobs=-1),\n",
       "                   param_distributions={'bootstrap': [True, False],\n",
       "                                        'max_depth': [5, 10, 15, 20, 25, 30, 35,\n",
       "                                                      40],\n",
       "                                        'max_features': [None, 'sqrt', 'log2'],\n",
       "                                        'min_samples_leaf': [1, 3, 5, 7, 9],\n",
       "                                        'min_samples_split': [2, 4, 6, 8, 10],\n",
       "                                        'n_estimators': [5, 10, 15, 20, 25, 30,\n",
       "                                                         35, 40, 45, 50, 55, 60,\n",
       "                                                         65, 70, 75, 80, 85, 90,\n",
       "                                                         95]},\n",
       "                   random_state=75, scoring='accuracy', verbose=1)"
      ]
     },
     "execution_count": 13,
     "metadata": {},
     "output_type": "execute_result"
    }
   ],
   "source": [
    "from sklearn.ensemble import RandomForestClassifier\n",
    "from sklearn.model_selection import RandomizedSearchCV\n",
    "\n",
    "rf = RandomForestClassifier(n_jobs=-1)\n",
    "param_grid = {'n_estimators': [i for i in range(5, 100, 5)], \n",
    "             'max_depth': [i for i in range(5, 41, 5)], \n",
    "             'min_samples_split': [int(i) for i in np.linspace(2, 10, 5)], \n",
    "             'min_samples_leaf': [int(i) for i in range(1, 10, 2)], \n",
    "             'bootstrap': [True, False], \n",
    "             'max_features': [None, 'sqrt', 'log2']}\n",
    "\n",
    "\n",
    "rf_rsearch = RandomizedSearchCV(estimator=rf, param_distributions=param_grid, n_iter=10, cv=5, \n",
    "                                scoring='accuracy', verbose=1, random_state=75)\n",
    "\n",
    "\n",
    "# Fit the model on training data\n",
    "rf_rsearch.fit(X_train_tfidf, y_train)\n"
   ]
  },
  {
   "cell_type": "code",
   "execution_count": 14,
   "id": "fbca9d94",
   "metadata": {},
   "outputs": [
    {
     "name": "stdout",
     "output_type": "stream",
     "text": [
      "{'n_estimators': 65, 'min_samples_split': 8, 'min_samples_leaf': 1, 'max_features': None, 'max_depth': 20, 'bootstrap': True}\n"
     ]
    }
   ],
   "source": [
    "# Finding the best paramters\n",
    "print(rf_rsearch.best_params_)"
   ]
  },
  {
   "cell_type": "code",
   "execution_count": 15,
   "id": "3cb93139",
   "metadata": {},
   "outputs": [
    {
     "name": "stdout",
     "output_type": "stream",
     "text": [
      "Precision: 1.0\n",
      "Recall: 0.974\n",
      "F1-Score: 0.9868287740628165\n"
     ]
    }
   ],
   "source": [
    "# Predict in test data\n",
    "y_pred = rf_rsearch.predict(X_test_tfidf)\n",
    "\n",
    "# Model Evaluation\n",
    "scores = score(y_test, y_pred, pos_label=0, average='binary')\n",
    "\n",
    "print('Precision:', scores[0])\n",
    "print('Recall:', scores[1])\n",
    "print('F1-Score:', scores[2])"
   ]
  },
  {
   "cell_type": "markdown",
   "id": "251151aa",
   "metadata": {},
   "source": [
    "## Gradient Boosting Classifier"
   ]
  },
  {
   "cell_type": "code",
   "execution_count": 16,
   "id": "7a19022b",
   "metadata": {
    "scrolled": true
   },
   "outputs": [
    {
     "name": "stdout",
     "output_type": "stream",
     "text": [
      "Fitting 5 folds for each of 10 candidates, totalling 50 fits\n"
     ]
    },
    {
     "data": {
      "text/plain": [
       "RandomizedSearchCV(cv=5, estimator=GradientBoostingClassifier(),\n",
       "                   param_distributions={'learning_rate': [0.01, 0.05, 0.1],\n",
       "                                        'max_depth': [5, 10, 15, 20, 25, 30, 35,\n",
       "                                                      40],\n",
       "                                        'max_features': [None, 'sqrt', 'log2'],\n",
       "                                        'min_samples_leaf': [1, 3, 5, 7, 9],\n",
       "                                        'min_samples_split': [2, 4, 6, 8, 10],\n",
       "                                        'n_estimators': [5, 10, 15, 20, 25, 30,\n",
       "                                                         35, 40, 45, 50, 55, 60,\n",
       "                                                         65, 70, 75, 80, 85, 90,\n",
       "                                                         95]},\n",
       "                   random_state=75, scoring='accuracy', verbose=1)"
      ]
     },
     "execution_count": 16,
     "metadata": {},
     "output_type": "execute_result"
    }
   ],
   "source": [
    "from sklearn.ensemble import GradientBoostingClassifier\n",
    "\n",
    "gb = GradientBoostingClassifier()\n",
    "param_grid = {'n_estimators': [i for i in range(5, 100, 5)], \n",
    "             'max_depth': [i for i in range(5, 41, 5)], \n",
    "             'min_samples_split': [int(i) for i in np.linspace(2, 10, 5)], \n",
    "             'min_samples_leaf': [int(i) for i in range(1, 10, 2)], \n",
    "             'max_features': [None, 'sqrt', 'log2'], \n",
    "             'learning_rate': [0.01, 0.05, 0.1]}\n",
    "\n",
    "gb_rsearch = RandomizedSearchCV(estimator=gb, param_distributions=param_grid, n_iter=10, cv=5, \n",
    "                                scoring='accuracy', verbose=1, random_state=75)\n",
    "\n",
    "# Fit model on training data\n",
    "gb_rsearch.fit(X_train_tfidf, y_train)"
   ]
  },
  {
   "cell_type": "code",
   "execution_count": 17,
   "id": "bc5fdd13",
   "metadata": {},
   "outputs": [
    {
     "name": "stdout",
     "output_type": "stream",
     "text": [
      "{'n_estimators': 90, 'min_samples_split': 10, 'min_samples_leaf': 1, 'max_features': None, 'max_depth': 15, 'learning_rate': 0.01}\n"
     ]
    }
   ],
   "source": [
    "print(gb_rsearch.best_params_)"
   ]
  },
  {
   "cell_type": "code",
   "execution_count": 18,
   "id": "b1cd1356",
   "metadata": {},
   "outputs": [
    {
     "name": "stdout",
     "output_type": "stream",
     "text": [
      "Precision: 1.0\n",
      "Recall: 0.974\n",
      "F1-Score: 0.9868287740628165\n"
     ]
    }
   ],
   "source": [
    "# Prediction on test data\n",
    "y_pred = gb_rsearch.predict(X_test_tfidf)\n",
    "\n",
    "# Model Evaluation\n",
    "scores = score(y_test, y_pred, pos_label=0, average='binary')\n",
    "\n",
    "print('Precision:', scores[0])\n",
    "print('Recall:', scores[1])\n",
    "print('F1-Score:', scores[2])"
   ]
  },
  {
   "cell_type": "markdown",
   "id": "f3edcb75",
   "metadata": {},
   "source": [
    "Based on precision, recall and f-score, all models are doing extremely well. We can pick any model but let's use Bernuolli Nayes Bayes model for making new predictions."
   ]
  },
  {
   "cell_type": "code",
   "execution_count": 26,
   "id": "d838a710",
   "metadata": {},
   "outputs": [],
   "source": [
    "# Find Sentiments of new tweets\n",
    "def new_tweets(text):\n",
    "    output = nb.predict(tfidf_vect.transform([clean_text(text)]))\n",
    "    if output[0] == 1:\n",
    "        print('Sentiment - This is a positive tweet!!!')\n",
    "    else:\n",
    "        print('Sentiment - This is a negative tweet!!!')"
   ]
  },
  {
   "cell_type": "code",
   "execution_count": 31,
   "id": "d0693d39",
   "metadata": {},
   "outputs": [
    {
     "name": "stdout",
     "output_type": "stream",
     "text": [
      "To quit type: -1\n",
      "\n",
      "Enter or copy a tweet: \n",
      "Best of the best tweet! Check this out!!!\n",
      "Sentiment - This is a positive tweet!!!\n",
      "\n",
      "Enter or copy a tweet: \n",
      "I think that is very very wrong. I do not like it :(\n",
      "Sentiment - This is a negative tweet!!!\n",
      "\n",
      "Enter or copy a tweet: \n",
      "Simply loved the game mind-blowing!! Yeah :)\n",
      "Sentiment - This is a positive tweet!!!\n",
      "\n",
      "Enter or copy a tweet: \n",
      "Worst day, Feeling bad\n",
      "Sentiment - This is a negative tweet!!!\n",
      "\n",
      "Enter or copy a tweet: \n",
      "-1\n"
     ]
    }
   ],
   "source": [
    "# Check tweets\n",
    "print('To quit type: -1\\n')\n",
    "\n",
    "while True:\n",
    "    text = input('Enter or copy a tweet: \\n')\n",
    "    if text == '-1':\n",
    "        break\n",
    "    new_tweets(text)\n",
    "    print()\n"
   ]
  },
  {
   "cell_type": "markdown",
   "id": "730ec400",
   "metadata": {},
   "source": [
    "## Saving the model"
   ]
  },
  {
   "cell_type": "code",
   "execution_count": 32,
   "id": "f283387e",
   "metadata": {},
   "outputs": [],
   "source": [
    "import pickle\n",
    "\n",
    "with open('BernNB.pkl', 'wb') as pickle_file:\n",
    "    pickle.dump(nb, pickle_file)\n",
    "    \n",
    "with open('tfidf.pkl', 'wb') as pickle_file2:\n",
    "    pickle.dump(tfidf_vect, pickle_file2)"
   ]
  },
  {
   "cell_type": "code",
   "execution_count": null,
   "id": "842a3b3d",
   "metadata": {},
   "outputs": [],
   "source": []
  }
 ],
 "metadata": {
  "kernelspec": {
   "display_name": "Python 3 (ipykernel)",
   "language": "python",
   "name": "python3"
  },
  "language_info": {
   "codemirror_mode": {
    "name": "ipython",
    "version": 3
   },
   "file_extension": ".py",
   "mimetype": "text/x-python",
   "name": "python",
   "nbconvert_exporter": "python",
   "pygments_lexer": "ipython3",
   "version": "3.7.11"
  }
 },
 "nbformat": 4,
 "nbformat_minor": 5
}
